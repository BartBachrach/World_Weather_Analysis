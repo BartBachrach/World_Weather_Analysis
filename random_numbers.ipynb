{
 "cells": [
  {
   "cell_type": "code",
   "execution_count": 1,
   "id": "b6a36339-8e5d-4fb7-9ddc-cfc2382923b1",
   "metadata": {},
   "outputs": [],
   "source": [
    "# import the random module\n",
    "import random"
   ]
  },
  {
   "cell_type": "code",
   "execution_count": 4,
   "id": "0f0c0202-e537-4601-860a-9c0a0501da47",
   "metadata": {},
   "outputs": [
    {
     "data": {
      "text/plain": [
       "62"
      ]
     },
     "execution_count": 4,
     "metadata": {},
     "output_type": "execute_result"
    }
   ],
   "source": [
    "random.randint(-90, 90)"
   ]
  },
  {
   "cell_type": "code",
   "execution_count": 5,
   "id": "0ffa9719-a87d-4e36-ae14-9706f8389023",
   "metadata": {},
   "outputs": [
    {
     "data": {
      "text/plain": [
       "0.3501189999366163"
      ]
     },
     "execution_count": 5,
     "metadata": {},
     "output_type": "execute_result"
    }
   ],
   "source": [
    "random.random()"
   ]
  },
  {
   "cell_type": "code",
   "execution_count": 7,
   "id": "6ebf0137-e590-4401-a273-b29d78cca33d",
   "metadata": {},
   "outputs": [
    {
     "data": {
      "text/plain": [
       "43.40394678867158"
      ]
     },
     "execution_count": 7,
     "metadata": {},
     "output_type": "execute_result"
    }
   ],
   "source": [
    "random_number = random.randint(-90, 89) + random.random()\n",
    "random_number"
   ]
  },
  {
   "cell_type": "code",
   "execution_count": 9,
   "id": "f8d3d28f-3f31-466e-a75f-b8469e4f7835",
   "metadata": {},
   "outputs": [
    {
     "data": {
      "text/plain": [
       "[1.1971505627546273,\n",
       " -56.83073209347308,\n",
       " -25.567442886056774,\n",
       " 48.856076674036274,\n",
       " -53.69148505447452,\n",
       " -47.73171129124179,\n",
       " -52.61096659811341,\n",
       " 76.05422761643581,\n",
       " -32.04281813181977,\n",
       " 7.776463908442614]"
      ]
     },
     "execution_count": 9,
     "metadata": {},
     "output_type": "execute_result"
    }
   ],
   "source": [
    "x = 1\n",
    "\n",
    "latitudes = []\n",
    "\n",
    "while x< 11:\n",
    "    \n",
    "    random_lat = random.randint(-90, 89) + random.random()\n",
    "    \n",
    "    latitudes.append(random_lat)\n",
    "    \n",
    "    x += 1\n",
    "    \n",
    "latitudes"
   ]
  },
  {
   "cell_type": "code",
   "execution_count": 16,
   "id": "36aa552f-02fb-4d6b-b988-8813bf71231a",
   "metadata": {},
   "outputs": [
    {
     "data": {
      "text/plain": [
       "21"
      ]
     },
     "execution_count": 16,
     "metadata": {},
     "output_type": "execute_result"
    }
   ],
   "source": [
    "random.randrange(-90, 90, step=3)"
   ]
  },
  {
   "cell_type": "code",
   "execution_count": 17,
   "id": "2f32aad9-f6cd-44d9-91af-cf81b99726b9",
   "metadata": {},
   "outputs": [
    {
     "data": {
      "text/plain": [
       "-14.428483679249794"
      ]
     },
     "execution_count": 17,
     "metadata": {},
     "output_type": "execute_result"
    }
   ],
   "source": [
    "random.uniform(-90, 90)"
   ]
  },
  {
   "cell_type": "code",
   "execution_count": 18,
   "id": "07bce13e-8d3c-4e3d-b14a-36f214b03f37",
   "metadata": {},
   "outputs": [],
   "source": [
    "# import the numpy module\n",
    "import numpy as np"
   ]
  },
  {
   "cell_type": "code",
   "execution_count": 19,
   "id": "687cdd91-bb78-4367-beff-f4ce360c88ad",
   "metadata": {},
   "outputs": [
    {
     "data": {
      "text/plain": [
       "27.477464591952426"
      ]
     },
     "execution_count": 19,
     "metadata": {},
     "output_type": "execute_result"
    }
   ],
   "source": [
    "np.random.uniform(-90.000, 90.000)"
   ]
  },
  {
   "cell_type": "code",
   "execution_count": 20,
   "id": "8d211935-0763-41f0-8f24-abf15aeb81cd",
   "metadata": {},
   "outputs": [
    {
     "data": {
      "text/plain": [
       "array([-17.36255279, -15.70145573,  -7.81851641, -68.27315802,\n",
       "        34.78485082, -66.52720445,  47.13617569, -66.19738224,\n",
       "        42.80424428, -33.41964784, -77.05821632,  16.58349327,\n",
       "       -20.77573108,  26.19142211, -85.73772569, -42.45055779,\n",
       "        39.76141515, -29.94076182, -89.51960512, -50.3281924 ,\n",
       "        67.28572049, -13.50117278,  18.17032871, -11.49628225,\n",
       "        28.78229429,  37.40204016,  60.02060455, -34.54953964,\n",
       "       -14.21548963,  51.76591909, -28.67899119, -40.9004441 ,\n",
       "       -24.26090263,  82.69447313, -41.63879327, -33.83493784,\n",
       "        24.79673763,  -2.06046991, -75.70045199,  84.56936611,\n",
       "       -80.81257889,  75.27425393,  13.78871918, -25.42310704,\n",
       "        17.99673339, -55.37014243,   3.00816113, -11.10688502,\n",
       "        74.19814003, -18.46096051])"
      ]
     },
     "execution_count": 20,
     "metadata": {},
     "output_type": "execute_result"
    }
   ],
   "source": [
    "np.random.uniform(-90.000, 90.000, size=50)"
   ]
  },
  {
   "cell_type": "code",
   "execution_count": 21,
   "id": "c0b71b02-3bba-4756-b828-bb1903ba6d51",
   "metadata": {},
   "outputs": [],
   "source": [
    "# import timeit\n",
    "import timeit"
   ]
  },
  {
   "cell_type": "code",
   "execution_count": 22,
   "id": "e8ce7dac-b6f0-44f9-89d9-22cfcce56cc4",
   "metadata": {},
   "outputs": [
    {
     "name": "stdout",
     "output_type": "stream",
     "text": [
      "17.8 µs ± 103 ns per loop (mean ± std. dev. of 7 runs, 100000 loops each)\n"
     ]
    }
   ],
   "source": [
    "%timeit np.random.uniform(-90.000, 90.000, size=1500)"
   ]
  },
  {
   "cell_type": "code",
   "execution_count": 32,
   "id": "0a916086-085e-4c25-ba3a-48ad81f283b4",
   "metadata": {},
   "outputs": [
    {
     "name": "stdout",
     "output_type": "stream",
     "text": [
      "1.07 ms ± 3.4 µs per loop (mean ± std. dev. of 7 runs, 1000 loops each)\n"
     ]
    }
   ],
   "source": [
    "def latitudes(size):\n",
    "    \n",
    "    latitudes = []\n",
    "    \n",
    "    x = 0\n",
    "    \n",
    "    while x < (size):\n",
    "        \n",
    "        random_lat = random.randint(-90, 90) + random.random()\n",
    "        \n",
    "        latitudes.append(random_lat)\n",
    "        \n",
    "        x += 1\n",
    "        \n",
    "    return latitudes\n",
    "\n",
    "# call the function with 1500\n",
    "%timeit latitudes(1500)"
   ]
  },
  {
   "cell_type": "code",
   "execution_count": 2,
   "id": "e2f4a37b-12e9-4cf9-b110-588470af8d1a",
   "metadata": {},
   "outputs": [
    {
     "name": "stdout",
     "output_type": "stream",
     "text": [
      "96.1 ns ± 0.453 ns per loop (mean ± std. dev. of 7 runs, 10000000 loops each)\n"
     ]
    }
   ],
   "source": [
    "def latitudes(size):\n",
    "    \n",
    "    latitudes = []\n",
    "    \n",
    "    x = 0\n",
    "    \n",
    "    for i in latitudes:\n",
    "        \n",
    "        random_lat = random.randint(-90, 90) + random.random()\n",
    "        \n",
    "        latitudes.append(random_lat)\n",
    "        \n",
    "        x +=1\n",
    "        \n",
    "    return latitudes\n",
    "\n",
    "%timeit latitudes(1500)"
   ]
  },
  {
   "cell_type": "code",
   "execution_count": null,
   "id": "a179b804-ddc8-4b1a-a148-384a373eb947",
   "metadata": {},
   "outputs": [],
   "source": []
  }
 ],
 "metadata": {
  "kernelspec": {
   "display_name": "Python 3",
   "language": "python",
   "name": "python3"
  },
  "language_info": {
   "codemirror_mode": {
    "name": "ipython",
    "version": 3
   },
   "file_extension": ".py",
   "mimetype": "text/x-python",
   "name": "python",
   "nbconvert_exporter": "python",
   "pygments_lexer": "ipython3",
   "version": "3.7.6"
  }
 },
 "nbformat": 4,
 "nbformat_minor": 5
}
