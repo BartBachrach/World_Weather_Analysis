{
 "cells": [
  {
   "cell_type": "markdown",
   "metadata": {},
   "source": [
    "## Deliverable 3. Create a Travel Itinerary Map."
   ]
  },
  {
   "cell_type": "code",
   "execution_count": 15,
   "metadata": {},
   "outputs": [],
   "source": [
    "# Dependencies and Setup\n",
    "import pandas as pd\n",
    "import requests\n",
    "import gmaps\n",
    "import gmaps.datasets\n",
    "\n",
    "# Import API key\n",
    "from config import g_key\n",
    "\n",
    "# Configure gmaps\n",
    "gmaps.configure(api_key=g_key)"
   ]
  },
  {
   "cell_type": "code",
   "execution_count": 16,
   "metadata": {},
   "outputs": [
    {
     "data": {
      "text/html": [
       "<div>\n",
       "<style scoped>\n",
       "    .dataframe tbody tr th:only-of-type {\n",
       "        vertical-align: middle;\n",
       "    }\n",
       "\n",
       "    .dataframe tbody tr th {\n",
       "        vertical-align: top;\n",
       "    }\n",
       "\n",
       "    .dataframe thead th {\n",
       "        text-align: right;\n",
       "    }\n",
       "</style>\n",
       "<table border=\"1\" class=\"dataframe\">\n",
       "  <thead>\n",
       "    <tr style=\"text-align: right;\">\n",
       "      <th></th>\n",
       "      <th>City_ID</th>\n",
       "      <th>City</th>\n",
       "      <th>Country</th>\n",
       "      <th>Max Temp</th>\n",
       "      <th>Current Description</th>\n",
       "      <th>Lat</th>\n",
       "      <th>Lng</th>\n",
       "      <th>Hotel Name</th>\n",
       "    </tr>\n",
       "  </thead>\n",
       "  <tbody>\n",
       "    <tr>\n",
       "      <th>0</th>\n",
       "      <td>9</td>\n",
       "      <td>Porto Seguro</td>\n",
       "      <td>BR</td>\n",
       "      <td>82.92</td>\n",
       "      <td>broken clouds</td>\n",
       "      <td>-16.4497</td>\n",
       "      <td>-39.0647</td>\n",
       "      <td>Porto Cálem Praia Hotel</td>\n",
       "    </tr>\n",
       "    <tr>\n",
       "      <th>1</th>\n",
       "      <td>15</td>\n",
       "      <td>Olinda</td>\n",
       "      <td>BR</td>\n",
       "      <td>82.13</td>\n",
       "      <td>scattered clouds</td>\n",
       "      <td>-8.0089</td>\n",
       "      <td>-34.8553</td>\n",
       "      <td>Flat Quatro Rodas Olinda</td>\n",
       "    </tr>\n",
       "    <tr>\n",
       "      <th>2</th>\n",
       "      <td>23</td>\n",
       "      <td>Guaira</td>\n",
       "      <td>BR</td>\n",
       "      <td>89.17</td>\n",
       "      <td>clear sky</td>\n",
       "      <td>-20.3183</td>\n",
       "      <td>-48.3106</td>\n",
       "      <td>Hotel do Lago</td>\n",
       "    </tr>\n",
       "    <tr>\n",
       "      <th>3</th>\n",
       "      <td>29</td>\n",
       "      <td>Omboue</td>\n",
       "      <td>GA</td>\n",
       "      <td>78.96</td>\n",
       "      <td>overcast clouds</td>\n",
       "      <td>-1.5746</td>\n",
       "      <td>9.2618</td>\n",
       "      <td>Hotel Olako</td>\n",
       "    </tr>\n",
       "    <tr>\n",
       "      <th>4</th>\n",
       "      <td>31</td>\n",
       "      <td>Johi</td>\n",
       "      <td>PK</td>\n",
       "      <td>85.48</td>\n",
       "      <td>broken clouds</td>\n",
       "      <td>26.6921</td>\n",
       "      <td>67.6133</td>\n",
       "      <td>Haji Fareed/ Abdul Qyoum Rodnani OTAQUE</td>\n",
       "    </tr>\n",
       "    <tr>\n",
       "      <th>...</th>\n",
       "      <td>...</td>\n",
       "      <td>...</td>\n",
       "      <td>...</td>\n",
       "      <td>...</td>\n",
       "      <td>...</td>\n",
       "      <td>...</td>\n",
       "      <td>...</td>\n",
       "      <td>...</td>\n",
       "    </tr>\n",
       "    <tr>\n",
       "      <th>192</th>\n",
       "      <td>668</td>\n",
       "      <td>Iaciara</td>\n",
       "      <td>BR</td>\n",
       "      <td>89.49</td>\n",
       "      <td>few clouds</td>\n",
       "      <td>-14.0958</td>\n",
       "      <td>-46.6317</td>\n",
       "      <td>Hotel Matinha</td>\n",
       "    </tr>\n",
       "    <tr>\n",
       "      <th>193</th>\n",
       "      <td>669</td>\n",
       "      <td>Momostenango</td>\n",
       "      <td>GT</td>\n",
       "      <td>77.43</td>\n",
       "      <td>clear sky</td>\n",
       "      <td>15.0436</td>\n",
       "      <td>-91.4086</td>\n",
       "      <td>Hotel Tzún</td>\n",
       "    </tr>\n",
       "    <tr>\n",
       "      <th>194</th>\n",
       "      <td>674</td>\n",
       "      <td>Fort Wellington</td>\n",
       "      <td>GY</td>\n",
       "      <td>83.03</td>\n",
       "      <td>overcast clouds</td>\n",
       "      <td>6.4000</td>\n",
       "      <td>-57.6000</td>\n",
       "      <td>TE'AMO Entertainment Park</td>\n",
       "    </tr>\n",
       "    <tr>\n",
       "      <th>195</th>\n",
       "      <td>677</td>\n",
       "      <td>Cotonou</td>\n",
       "      <td>BJ</td>\n",
       "      <td>85.98</td>\n",
       "      <td>few clouds</td>\n",
       "      <td>6.3654</td>\n",
       "      <td>2.4183</td>\n",
       "      <td>Novotel Cotonou Orisha</td>\n",
       "    </tr>\n",
       "    <tr>\n",
       "      <th>196</th>\n",
       "      <td>679</td>\n",
       "      <td>Panacan</td>\n",
       "      <td>PH</td>\n",
       "      <td>80.37</td>\n",
       "      <td>overcast clouds</td>\n",
       "      <td>9.2463</td>\n",
       "      <td>118.4082</td>\n",
       "      <td>Mom's Place Resort</td>\n",
       "    </tr>\n",
       "  </tbody>\n",
       "</table>\n",
       "<p>197 rows × 8 columns</p>\n",
       "</div>"
      ],
      "text/plain": [
       "     City_ID             City Country  Max Temp Current Description      Lat  \\\n",
       "0          9     Porto Seguro      BR     82.92       broken clouds -16.4497   \n",
       "1         15           Olinda      BR     82.13    scattered clouds  -8.0089   \n",
       "2         23           Guaira      BR     89.17           clear sky -20.3183   \n",
       "3         29           Omboue      GA     78.96     overcast clouds  -1.5746   \n",
       "4         31             Johi      PK     85.48       broken clouds  26.6921   \n",
       "..       ...              ...     ...       ...                 ...      ...   \n",
       "192      668          Iaciara      BR     89.49          few clouds -14.0958   \n",
       "193      669     Momostenango      GT     77.43           clear sky  15.0436   \n",
       "194      674  Fort Wellington      GY     83.03     overcast clouds   6.4000   \n",
       "195      677          Cotonou      BJ     85.98          few clouds   6.3654   \n",
       "196      679          Panacan      PH     80.37     overcast clouds   9.2463   \n",
       "\n",
       "          Lng                               Hotel Name  \n",
       "0    -39.0647                  Porto Cálem Praia Hotel  \n",
       "1    -34.8553                 Flat Quatro Rodas Olinda  \n",
       "2    -48.3106                            Hotel do Lago  \n",
       "3      9.2618                              Hotel Olako  \n",
       "4     67.6133  Haji Fareed/ Abdul Qyoum Rodnani OTAQUE  \n",
       "..        ...                                      ...  \n",
       "192  -46.6317                            Hotel Matinha  \n",
       "193  -91.4086                               Hotel Tzún  \n",
       "194  -57.6000                TE'AMO Entertainment Park  \n",
       "195    2.4183                   Novotel Cotonou Orisha  \n",
       "196  118.4082                       Mom's Place Resort  \n",
       "\n",
       "[197 rows x 8 columns]"
      ]
     },
     "execution_count": 16,
     "metadata": {},
     "output_type": "execute_result"
    }
   ],
   "source": [
    "# 1. Read the WeatherPy_vacation.csv into a DataFrame.\n",
    "vacation_df = pd.read_csv(\"../Weather_Database/WeatherPy_vacation.csv\")\n",
    "vacation_df"
   ]
  },
  {
   "cell_type": "code",
   "execution_count": 17,
   "metadata": {},
   "outputs": [],
   "source": [
    "# 2. Using the template add the city name, the country code, the weather description and maximum temperature for the city.\n",
    "# this is that HTML code \n",
    "info_box_template = \"\"\"\n",
    "<dl>\n",
    "<dt>City</dt><dd>{City}</dd>\n",
    "<dt>Country</dt><dd>{Country}</dd>\n",
    "<dt>Current Description</dt><dd>{Current Description}</dd>\n",
    "<dt>Max Temp</dt><dd>{Max Temp}</dd>\n",
    "</dl>\n",
    "\"\"\"\n",
    "\n",
    "# 3a. Get the data from each row and add it to the formatting template and store the data in a list.\n",
    "hotel_info = [info_box_template.format(**row) for index, row in vacation_df.iterrows()]\n",
    "\n",
    "# 3b. Get the latitude and longitude from each row and store in a new DataFrame.\n",
    "locations = vacation_df[[\"Lat\", \"Lng\"]]"
   ]
  },
  {
   "cell_type": "code",
   "execution_count": 18,
   "metadata": {},
   "outputs": [
    {
     "data": {
      "application/vnd.jupyter.widget-view+json": {
       "model_id": "9b5ba916de0b421ea819411e89852fbc",
       "version_major": 2,
       "version_minor": 0
      },
      "text/plain": [
       "Figure(layout=FigureLayout(height='420px'))"
      ]
     },
     "metadata": {},
     "output_type": "display_data"
    }
   ],
   "source": [
    "# 4a. Add a marker layer for each city to the map.\n",
    "fig = gmaps.figure(center=(31.0, 30.0), zoom_level=1.5)\n",
    "marker_layer = gmaps.marker_layer(locations, info_box_content=hotel_info)\n",
    "fig.add_layer(marker_layer)\n",
    "# 4b. Display the figure\n",
    "\n",
    "fig"
   ]
  },
  {
   "cell_type": "code",
   "execution_count": 19,
   "metadata": {},
   "outputs": [],
   "source": [
    "# From the map above pick 4 cities and create a vacation itinerary route to travel between the four cities. \n",
    "# 5. Create DataFrames for each city by filtering the 'vacation_df' using the loc method. \n",
    "# Hint: The starting and ending city should be the same city.\n",
    "\n",
    "vacation_start = vacation_df.loc[vacation_df['City']=='Houston']\n",
    "vacation_end = vacation_df.loc[vacation_df['City']=='Houston']\n",
    "vacation_stop1 = vacation_df.loc[vacation_df['City']== 'San Patricio']\n",
    "vacation_stop2 = vacation_df.loc[vacation_df['City']=='Harlingen']\n",
    "vacation_stop3 = vacation_df.loc[vacation_df['City']=='Corrales']\n",
    "\n",
    "vacation_start_df = pd.DataFrame(vacation_start)\n",
    "vacation_end_df = pd.DataFrame(vacation_end)\n",
    "vacation_stop1_df = pd.DataFrame(vacation_stop1)\n",
    "vacation_stop2_df = pd.DataFrame(vacation_stop2)\n",
    "vacation_stop3_df = pd.DataFrame(vacation_stop3)"
   ]
  },
  {
   "cell_type": "code",
   "execution_count": 20,
   "metadata": {},
   "outputs": [],
   "source": [
    "# 6. Get the latitude-longitude pairs as tuples from each city DataFrame using the to_numpy function and list indexing.\n",
    "start = tuple(vacation_start_df.to_numpy()[0][5:7])\n",
    "end = tuple(vacation_end_df.to_numpy()[0][5:7])\n",
    "stop1 = tuple(vacation_stop1_df.to_numpy()[0][5:7])\n",
    "stop2 = tuple(vacation_stop2_df.to_numpy()[0][5:7])\n",
    "stop3 = tuple(vacation_stop3_df.to_numpy()[0][5:7])"
   ]
  },
  {
   "cell_type": "code",
   "execution_count": 21,
   "metadata": {
    "scrolled": true
   },
   "outputs": [
    {
     "data": {
      "application/vnd.jupyter.widget-view+json": {
       "model_id": "535845ac274945c9932669a946b6ddb5",
       "version_major": 2,
       "version_minor": 0
      },
      "text/plain": [
       "Figure(layout=FigureLayout(height='420px'))"
      ]
     },
     "metadata": {},
     "output_type": "display_data"
    }
   ],
   "source": [
    "# 7. Create a direction layer map using the start and end latitude-longitude pairs,\n",
    "# and stop1, stop2, and stop3 as the waypoints. The travel_mode should be \"DRIVING\", \"BICYCLING\", or \"WALKING\".\n",
    "fig=gmaps.figure()\n",
    "fig = gmaps.figure(center=(31.0, 30.0), zoom_level=1.5)\n",
    "Roadtrip = gmaps.directions_layer(start, end, waypoints=[stop1,stop2,stop3], travel_mode='DRIVING')\n",
    "fig.add_layer(Roadtrip)\n",
    "fig\n"
   ]
  },
  {
   "cell_type": "code",
   "execution_count": 22,
   "metadata": {},
   "outputs": [
    {
     "data": {
      "text/html": [
       "<div>\n",
       "<style scoped>\n",
       "    .dataframe tbody tr th:only-of-type {\n",
       "        vertical-align: middle;\n",
       "    }\n",
       "\n",
       "    .dataframe tbody tr th {\n",
       "        vertical-align: top;\n",
       "    }\n",
       "\n",
       "    .dataframe thead th {\n",
       "        text-align: right;\n",
       "    }\n",
       "</style>\n",
       "<table border=\"1\" class=\"dataframe\">\n",
       "  <thead>\n",
       "    <tr style=\"text-align: right;\">\n",
       "      <th></th>\n",
       "      <th>City_ID</th>\n",
       "      <th>City</th>\n",
       "      <th>Country</th>\n",
       "      <th>Max Temp</th>\n",
       "      <th>Current Description</th>\n",
       "      <th>Lat</th>\n",
       "      <th>Lng</th>\n",
       "      <th>Hotel Name</th>\n",
       "    </tr>\n",
       "  </thead>\n",
       "  <tbody>\n",
       "    <tr>\n",
       "      <th>0</th>\n",
       "      <td>418</td>\n",
       "      <td>Houston</td>\n",
       "      <td>US</td>\n",
       "      <td>83.41</td>\n",
       "      <td>haze</td>\n",
       "      <td>29.7633</td>\n",
       "      <td>-95.3633</td>\n",
       "      <td>Hotel ICON, Autograph Collection</td>\n",
       "    </tr>\n",
       "    <tr>\n",
       "      <th>1</th>\n",
       "      <td>336</td>\n",
       "      <td>San Patricio</td>\n",
       "      <td>US</td>\n",
       "      <td>80.85</td>\n",
       "      <td>broken clouds</td>\n",
       "      <td>28.0170</td>\n",
       "      <td>-97.5169</td>\n",
       "      <td>Motel 6 Sinton, TX</td>\n",
       "    </tr>\n",
       "    <tr>\n",
       "      <th>2</th>\n",
       "      <td>317</td>\n",
       "      <td>Harlingen</td>\n",
       "      <td>US</td>\n",
       "      <td>79.20</td>\n",
       "      <td>overcast clouds</td>\n",
       "      <td>26.1906</td>\n",
       "      <td>-97.6961</td>\n",
       "      <td>Courtyard by Marriott Harlingen</td>\n",
       "    </tr>\n",
       "    <tr>\n",
       "      <th>3</th>\n",
       "      <td>71</td>\n",
       "      <td>Corrales</td>\n",
       "      <td>US</td>\n",
       "      <td>78.98</td>\n",
       "      <td>clear sky</td>\n",
       "      <td>35.2378</td>\n",
       "      <td>-106.6067</td>\n",
       "      <td>Quality Inn</td>\n",
       "    </tr>\n",
       "  </tbody>\n",
       "</table>\n",
       "</div>"
      ],
      "text/plain": [
       "   City_ID          City Country  Max Temp Current Description      Lat  \\\n",
       "0      418       Houston      US     83.41                haze  29.7633   \n",
       "1      336  San Patricio      US     80.85       broken clouds  28.0170   \n",
       "2      317     Harlingen      US     79.20     overcast clouds  26.1906   \n",
       "3       71      Corrales      US     78.98           clear sky  35.2378   \n",
       "\n",
       "        Lng                        Hotel Name  \n",
       "0  -95.3633  Hotel ICON, Autograph Collection  \n",
       "1  -97.5169                Motel 6 Sinton, TX  \n",
       "2  -97.6961   Courtyard by Marriott Harlingen  \n",
       "3 -106.6067                       Quality Inn  "
      ]
     },
     "execution_count": 22,
     "metadata": {},
     "output_type": "execute_result"
    }
   ],
   "source": [
    "# 8. To create a marker layer map between the four cities.\n",
    "#  Combine the four city DataFrames into one DataFrame using the concat() function.\n",
    "itinerary_df = pd.concat([vacation_start_df, vacation_stop1_df, vacation_stop2_df, vacation_stop3_df],ignore_index=True)\n",
    "itinerary_df"
   ]
  },
  {
   "cell_type": "code",
   "execution_count": 23,
   "metadata": {},
   "outputs": [],
   "source": [
    "# 9 Using the template add city name, the country code, the weather description and maximum temperature for the city. \n",
    "info_box_template = \"\"\"\n",
    "<dl>\n",
    "<dt>City</dt><dd>{City}</dd>\n",
    "<dt>Country</dt><dd>{Country}</dd>\n",
    "<dt>Current Description</dt><dd>{Current Description}</dd>\n",
    "<dt>Max Temp</dt><dd>{Max Temp}F</dd>\n",
    "</dl>\n",
    "\"\"\"\n",
    "\n",
    "# 10a Get the data from each row and add it to the formatting template and store the data in a list.\n",
    "hotel_info = [info_box_template.format(**row) for index, row in itinerary_df.iterrows()]\n",
    "\n",
    "# 10b. Get the latitude and longitude from each row and store in a new DataFrame.\n",
    "locations = itinerary_df[[\"Lat\", \"Lng\"]]"
   ]
  },
  {
   "cell_type": "code",
   "execution_count": 25,
   "metadata": {},
   "outputs": [
    {
     "data": {
      "application/vnd.jupyter.widget-view+json": {
       "model_id": "70ad534eaa544de3a51e60d231b67fab",
       "version_major": 2,
       "version_minor": 0
      },
      "text/plain": [
       "Figure(layout=FigureLayout(height='420px'))"
      ]
     },
     "metadata": {},
     "output_type": "display_data"
    }
   ],
   "source": [
    "# 11a. Add a marker layer for each city to the map.\n",
    "fig = gmaps.figure(center=(31.0, 30.0), zoom_level=1.5)\n",
    "marker_layer = gmaps.marker_layer(locations, info_box_content=hotel_info)\n",
    "fig.add_layer(marker_layer)\n",
    "\n",
    "\n",
    "# 11b. Display the figure\n",
    "fig"
   ]
  },
  {
   "cell_type": "code",
   "execution_count": null,
   "metadata": {},
   "outputs": [],
   "source": []
  }
 ],
 "metadata": {
  "kernelspec": {
   "display_name": "PythonData",
   "language": "python",
   "name": "pythondata"
  },
  "language_info": {
   "codemirror_mode": {
    "name": "ipython",
    "version": 3
   },
   "file_extension": ".py",
   "mimetype": "text/x-python",
   "name": "python",
   "nbconvert_exporter": "python",
   "pygments_lexer": "ipython3",
   "version": "3.9.7"
  },
  "latex_envs": {
   "LaTeX_envs_menu_present": true,
   "autoclose": false,
   "autocomplete": true,
   "bibliofile": "biblio.bib",
   "cite_by": "apalike",
   "current_citInitial": 1,
   "eqLabelWithNumbers": true,
   "eqNumInitial": 1,
   "hotkeys": {
    "equation": "Ctrl-E",
    "itemize": "Ctrl-I"
   },
   "labels_anchors": false,
   "latex_user_defs": false,
   "report_style_numbering": false,
   "user_envs_cfg": false
  }
 },
 "nbformat": 4,
 "nbformat_minor": 4
}
